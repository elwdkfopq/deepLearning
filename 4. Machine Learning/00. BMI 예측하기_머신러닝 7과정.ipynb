{
 "cells": [
  {
   "cell_type": "markdown",
   "id": "269a538a",
   "metadata": {},
   "source": [
    "### 머신러닝 종류\n",
    "1. 지도학습\n",
    "    - 문제(X)와 답(y)가 주어진 상태에서 학습\n",
    "    - 분류, 회귀로 나뉨\n",
    "        - 분류: 정답 데이터(y)의 형태가 범주형 데이터일 때\n",
    "        - 회귀: 정답 데이터(y)의 형태가 연속형 데이터일 때\n",
    "\n",
    "2. 비지도학습\n",
    "    - 문제(X)에 대해서만 주어진 상태에서 학습\n",
    "    - 데이터의 숨겨진 특성, 구조, 패턴을 파악 -> 클러스터링(군집화)\n",
    "\n",
    "3. 강화학습\n",
    "    - 완전한 답을 제공하지 않음\n",
    "    - 더 큰 보상을 얻을 수 있는 방향으로 학습을 진행\n",
    "    - ex.알파고"
   ]
  },
  {
   "cell_type": "markdown",
   "id": "3473465f",
   "metadata": {},
   "source": [
    "### 머신러닝 단계\n",
    "1. 문제정의\n",
    "2. 데이터 수집\n",
    "3. 데이터 전처리\n",
    "4. EDA(탐색적 데이터 분석)\n",
    "5. 모델 선택, 하이퍼파라미터 조정\n",
    "6. 모델 학습\n",
    "7. 모델 평가"
   ]
  },
  {
   "cell_type": "markdown",
   "id": "b9de6733",
   "metadata": {},
   "source": [
    "1. 문제정의\n",
    "- 500명의 키, 몸무게 데이터를 통해서 비만도를 판별하는 모델 생성\n",
    "- 분류모델 활용! -> 6가지의 class로 분류하는 판별기를 만들어 보자!"
   ]
  },
  {
   "cell_type": "code",
   "execution_count": 1,
   "id": "6955a65b",
   "metadata": {},
   "outputs": [],
   "source": [
    "# 필요한 라이브러리 불러오기! \n",
    "import pandas as pd\n",
    "import matplotlib.pyplot as plt"
   ]
  },
  {
   "cell_type": "markdown",
   "id": "d9fe598b",
   "metadata": {},
   "source": [
    "2. 데이터 수집\n",
    "- csv 파일 불러오기"
   ]
  },
  {
   "cell_type": "code",
   "execution_count": 3,
   "id": "737dba8e",
   "metadata": {},
   "outputs": [
    {
     "data": {
      "text/html": [
       "<div>\n",
       "<style scoped>\n",
       "    .dataframe tbody tr th:only-of-type {\n",
       "        vertical-align: middle;\n",
       "    }\n",
       "\n",
       "    .dataframe tbody tr th {\n",
       "        vertical-align: top;\n",
       "    }\n",
       "\n",
       "    .dataframe thead th {\n",
       "        text-align: right;\n",
       "    }\n",
       "</style>\n",
       "<table border=\"1\" class=\"dataframe\">\n",
       "  <thead>\n",
       "    <tr style=\"text-align: right;\">\n",
       "      <th></th>\n",
       "      <th>Gender</th>\n",
       "      <th>Height</th>\n",
       "      <th>Weight</th>\n",
       "    </tr>\n",
       "    <tr>\n",
       "      <th>Label</th>\n",
       "      <th></th>\n",
       "      <th></th>\n",
       "      <th></th>\n",
       "    </tr>\n",
       "  </thead>\n",
       "  <tbody>\n",
       "    <tr>\n",
       "      <th>Obesity</th>\n",
       "      <td>Male</td>\n",
       "      <td>174</td>\n",
       "      <td>96</td>\n",
       "    </tr>\n",
       "    <tr>\n",
       "      <th>Normal</th>\n",
       "      <td>Male</td>\n",
       "      <td>189</td>\n",
       "      <td>87</td>\n",
       "    </tr>\n",
       "    <tr>\n",
       "      <th>Obesity</th>\n",
       "      <td>Female</td>\n",
       "      <td>185</td>\n",
       "      <td>110</td>\n",
       "    </tr>\n",
       "    <tr>\n",
       "      <th>Overweight</th>\n",
       "      <td>Female</td>\n",
       "      <td>195</td>\n",
       "      <td>104</td>\n",
       "    </tr>\n",
       "    <tr>\n",
       "      <th>Overweight</th>\n",
       "      <td>Male</td>\n",
       "      <td>149</td>\n",
       "      <td>61</td>\n",
       "    </tr>\n",
       "    <tr>\n",
       "      <th>...</th>\n",
       "      <td>...</td>\n",
       "      <td>...</td>\n",
       "      <td>...</td>\n",
       "    </tr>\n",
       "    <tr>\n",
       "      <th>Extreme Obesity</th>\n",
       "      <td>Female</td>\n",
       "      <td>150</td>\n",
       "      <td>153</td>\n",
       "    </tr>\n",
       "    <tr>\n",
       "      <th>Obesity</th>\n",
       "      <td>Female</td>\n",
       "      <td>184</td>\n",
       "      <td>121</td>\n",
       "    </tr>\n",
       "    <tr>\n",
       "      <th>Extreme Obesity</th>\n",
       "      <td>Female</td>\n",
       "      <td>141</td>\n",
       "      <td>136</td>\n",
       "    </tr>\n",
       "    <tr>\n",
       "      <th>Extreme Obesity</th>\n",
       "      <td>Male</td>\n",
       "      <td>150</td>\n",
       "      <td>95</td>\n",
       "    </tr>\n",
       "    <tr>\n",
       "      <th>Extreme Obesity</th>\n",
       "      <td>Male</td>\n",
       "      <td>173</td>\n",
       "      <td>131</td>\n",
       "    </tr>\n",
       "  </tbody>\n",
       "</table>\n",
       "<p>500 rows × 3 columns</p>\n",
       "</div>"
      ],
      "text/plain": [
       "                 Gender  Height  Weight\n",
       "Label                                  \n",
       "Obesity            Male     174      96\n",
       "Normal             Male     189      87\n",
       "Obesity          Female     185     110\n",
       "Overweight       Female     195     104\n",
       "Overweight         Male     149      61\n",
       "...                 ...     ...     ...\n",
       "Extreme Obesity  Female     150     153\n",
       "Obesity          Female     184     121\n",
       "Extreme Obesity  Female     141     136\n",
       "Extreme Obesity    Male     150      95\n",
       "Extreme Obesity    Male     173     131\n",
       "\n",
       "[500 rows x 3 columns]"
      ]
     },
     "execution_count": 3,
     "metadata": {},
     "output_type": "execute_result"
    }
   ],
   "source": [
    "data = pd.read_csv('data/bmi_500.csv', index_col='Label')\n",
    "data"
   ]
  },
  {
   "cell_type": "markdown",
   "id": "6df61228",
   "metadata": {},
   "source": [
    "3. 데이터 전처리\n",
    "- 결측치 대체 or 제거\n",
    "- 이상치 대체 or 제거\n",
    "- 변수 처리\n",
    "- 데이터 split(train set과 test set을 분리)"
   ]
  },
  {
   "cell_type": "code",
   "execution_count": 4,
   "id": "b6413120",
   "metadata": {},
   "outputs": [
    {
     "name": "stdout",
     "output_type": "stream",
     "text": [
      "<class 'pandas.core.frame.DataFrame'>\n",
      "Index: 500 entries, Obesity to Extreme Obesity\n",
      "Data columns (total 3 columns):\n",
      " #   Column  Non-Null Count  Dtype \n",
      "---  ------  --------------  ----- \n",
      " 0   Gender  500 non-null    object\n",
      " 1   Height  500 non-null    int64 \n",
      " 2   Weight  500 non-null    int64 \n",
      "dtypes: int64(2), object(1)\n",
      "memory usage: 15.6+ KB\n"
     ]
    }
   ],
   "source": [
    "# data의 정보 확인\n",
    "data.info()"
   ]
  },
  {
   "cell_type": "markdown",
   "id": "72b0aac2",
   "metadata": {},
   "source": [
    "4. EDA(탐색적 데이터 분석)\n",
    "- 데이터의 특성 확인, 파악\n",
    "- 기술통계량(요약본), 데이터의 분포 파악, 시각화"
   ]
  },
  {
   "cell_type": "code",
   "execution_count": 8,
   "id": "de0a029d",
   "metadata": {},
   "outputs": [
    {
     "data": {
      "text/html": [
       "<div>\n",
       "<style scoped>\n",
       "    .dataframe tbody tr th:only-of-type {\n",
       "        vertical-align: middle;\n",
       "    }\n",
       "\n",
       "    .dataframe tbody tr th {\n",
       "        vertical-align: top;\n",
       "    }\n",
       "\n",
       "    .dataframe thead th {\n",
       "        text-align: right;\n",
       "    }\n",
       "</style>\n",
       "<table border=\"1\" class=\"dataframe\">\n",
       "  <thead>\n",
       "    <tr style=\"text-align: right;\">\n",
       "      <th></th>\n",
       "      <th>count</th>\n",
       "      <th>unique</th>\n",
       "      <th>top</th>\n",
       "      <th>freq</th>\n",
       "    </tr>\n",
       "  </thead>\n",
       "  <tbody>\n",
       "    <tr>\n",
       "      <th>Gender</th>\n",
       "      <td>500</td>\n",
       "      <td>2</td>\n",
       "      <td>Female</td>\n",
       "      <td>255</td>\n",
       "    </tr>\n",
       "  </tbody>\n",
       "</table>\n",
       "</div>"
      ],
      "text/plain": [
       "       count unique     top freq\n",
       "Gender   500      2  Female  255"
      ]
     },
     "execution_count": 8,
     "metadata": {},
     "output_type": "execute_result"
    }
   ],
   "source": []
  },
  {
   "cell_type": "code",
   "execution_count": 7,
   "id": "9eee0c90",
   "metadata": {
    "scrolled": true
   },
   "outputs": [
    {
     "data": {
      "text/html": [
       "<div>\n",
       "<style scoped>\n",
       "    .dataframe tbody tr th:only-of-type {\n",
       "        vertical-align: middle;\n",
       "    }\n",
       "\n",
       "    .dataframe tbody tr th {\n",
       "        vertical-align: top;\n",
       "    }\n",
       "\n",
       "    .dataframe thead th {\n",
       "        text-align: right;\n",
       "    }\n",
       "</style>\n",
       "<table border=\"1\" class=\"dataframe\">\n",
       "  <thead>\n",
       "    <tr style=\"text-align: right;\">\n",
       "      <th></th>\n",
       "      <th>count</th>\n",
       "      <th>mean</th>\n",
       "      <th>std</th>\n",
       "      <th>min</th>\n",
       "      <th>25%</th>\n",
       "      <th>50%</th>\n",
       "      <th>75%</th>\n",
       "      <th>max</th>\n",
       "    </tr>\n",
       "  </thead>\n",
       "  <tbody>\n",
       "    <tr>\n",
       "      <th>Height</th>\n",
       "      <td>500.0</td>\n",
       "      <td>169.944</td>\n",
       "      <td>16.375261</td>\n",
       "      <td>140.0</td>\n",
       "      <td>156.0</td>\n",
       "      <td>170.5</td>\n",
       "      <td>184.0</td>\n",
       "      <td>199.0</td>\n",
       "    </tr>\n",
       "    <tr>\n",
       "      <th>Weight</th>\n",
       "      <td>500.0</td>\n",
       "      <td>106.000</td>\n",
       "      <td>32.382607</td>\n",
       "      <td>50.0</td>\n",
       "      <td>80.0</td>\n",
       "      <td>106.0</td>\n",
       "      <td>136.0</td>\n",
       "      <td>160.0</td>\n",
       "    </tr>\n",
       "  </tbody>\n",
       "</table>\n",
       "</div>"
      ],
      "text/plain": [
       "        count     mean        std    min    25%    50%    75%    max\n",
       "Height  500.0  169.944  16.375261  140.0  156.0  170.5  184.0  199.0\n",
       "Weight  500.0  106.000  32.382607   50.0   80.0  106.0  136.0  160.0"
      ]
     },
     "execution_count": 7,
     "metadata": {},
     "output_type": "execute_result"
    }
   ],
   "source": [
    "# 기술통계량(요약본) 확인\n",
    "# 수치형 데이터에 대해 요약본 확인\n",
    "data.describe().T"
   ]
  },
  {
   "cell_type": "code",
   "execution_count": 9,
   "id": "7edb208a",
   "metadata": {},
   "outputs": [
    {
     "data": {
      "text/html": [
       "<div>\n",
       "<style scoped>\n",
       "    .dataframe tbody tr th:only-of-type {\n",
       "        vertical-align: middle;\n",
       "    }\n",
       "\n",
       "    .dataframe tbody tr th {\n",
       "        vertical-align: top;\n",
       "    }\n",
       "\n",
       "    .dataframe thead th {\n",
       "        text-align: right;\n",
       "    }\n",
       "</style>\n",
       "<table border=\"1\" class=\"dataframe\">\n",
       "  <thead>\n",
       "    <tr style=\"text-align: right;\">\n",
       "      <th></th>\n",
       "      <th>count</th>\n",
       "      <th>unique</th>\n",
       "      <th>top</th>\n",
       "      <th>freq</th>\n",
       "    </tr>\n",
       "  </thead>\n",
       "  <tbody>\n",
       "    <tr>\n",
       "      <th>Gender</th>\n",
       "      <td>500</td>\n",
       "      <td>2</td>\n",
       "      <td>Female</td>\n",
       "      <td>255</td>\n",
       "    </tr>\n",
       "  </tbody>\n",
       "</table>\n",
       "</div>"
      ],
      "text/plain": [
       "       count unique     top freq\n",
       "Gender   500      2  Female  255"
      ]
     },
     "execution_count": 9,
     "metadata": {},
     "output_type": "execute_result"
    }
   ],
   "source": [
    "# object형에 대해 기술통계량 확인\n",
    "data.describe(include='object').T"
   ]
  },
  {
   "cell_type": "code",
   "execution_count": 10,
   "id": "72345da6",
   "metadata": {},
   "outputs": [
    {
     "data": {
      "text/plain": [
       "Index(['Obesity', 'Normal', 'Overweight', 'Extreme Obesity', 'Weak',\n",
       "       'Extremely Weak'],\n",
       "      dtype='object', name='Label')"
      ]
     },
     "execution_count": 10,
     "metadata": {},
     "output_type": "execute_result"
    }
   ],
   "source": [
    "# 정답데이터 확인하기(label)\n",
    "data.index.unique()\n",
    "# 총 6ea의 클래스를 가짐\n",
    "# 다중분류: 6가지의 클래스 중에서 1개의 정답을 예측\n",
    "\n",
    "# Extreme Obesity: 고도비만\n",
    "# Obesity: 비만\n",
    "# Overweight: 과체중\n",
    "# Normal: 정상\n",
    "# Weak: 저체중\n",
    "# Extremely Weak: 심한 저체중"
   ]
  },
  {
   "cell_type": "code",
   "execution_count": 23,
   "id": "c07d4f56",
   "metadata": {},
   "outputs": [
    {
     "data": {
      "image/png": "[encoded data removed]",
      "text/plain": [
       "<Figure size 640x480 with 1 Axes>"
      ]
     },
     "metadata": {},
     "output_type": "display_data"
    }
   ],
   "source": [
    "# 시각화 (bmi 레이블별 분표 현황 시각화)\n",
    "# 산점도(scatter)\n",
    "# 고도비만에 대한 산점도 그려보기\n",
    "EO = data.loc['Extreme Obesity']\n",
    "\n",
    "EO[\"Height\"]\n",
    "EO[\"Weight\"]\n",
    "plt.scatter(EO['Height'],EO['Weight'], color=\"red\", label='ext ob')\n",
    "plt.legend()\n",
    "plt.show()"
   ]
  },
  {
   "cell_type": "code",
   "execution_count": null,
   "id": "350c21c4",
   "metadata": {},
   "outputs": [],
   "source": [
    "# 같은 작업을 6번 동일하게 진행해서, 모든 클래스에 대한 산점도 그려보기!\n",
    "# 함수 활용!"
   ]
  },
  {
   "cell_type": "code",
   "execution_count": 21,
   "id": "41a50769",
   "metadata": {},
   "outputs": [],
   "source": [
    "Ob = data.loc['Obesity']\n",
    "OW = data.loc['Overweight']\n",
    "Nor = data.loc['Normal']\n",
    "Weak = data.loc['Weak']\n",
    "EW = data.loc['Extremely Weak']"
   ]
  },
  {
   "cell_type": "code",
   "execution_count": 26,
   "id": "968a4bb8",
   "metadata": {},
   "outputs": [
    {
     "data": {
      "text/plain": [
       "<matplotlib.collections.PathCollection at 0x1ba2b6b9cd0>"
      ]
     },
     "execution_count": 26,
     "metadata": {},
     "output_type": "execute_result"
    },
    {
     "data": {
      "image/png": "[encoded data removed]",
      "text/plain": [
       "<Figure size 640x480 with 1 Axes>"
      ]
     },
     "metadata": {},
     "output_type": "display_data"
    }
   ],
   "source": [
    "plt.scatter(Ob['Height'],Ob['Weight'], color=\"orange\", label='over weight')\n",
    "plt.scatter(OW['Height'],OW['Weight'], color=\"yellow\", label='ext ob')\n",
    "plt.scatter(Nor['Height'],Nor['Weight'], color=\"green\", label='ext ob')\n",
    "plt.scatter(Weak['Height'],Weak['Weight'], color=\"blue\", label='ext ob')\n",
    "plt.scatter(EW['Height'],EW['Weight'], color=\"navy\", label='ext ob')\n",
    "plt.scatter(EO['Height'],EO['Weight'], color=\"red\", label='ext ob')"
   ]
  },
  {
   "cell_type": "code",
   "execution_count": 36,
   "id": "3deb8321",
   "metadata": {},
   "outputs": [],
   "source": [
    "# 함수 활용!\n",
    "def graph_draw(label, c):\n",
    "    class_bmi = data.loc[label]\n",
    "    plt.scatter(class_bmi['Height'],class_bmi['Weight'], color=c, label=label)"
   ]
  },
  {
   "cell_type": "code",
   "execution_count": 28,
   "id": "e7610ace",
   "metadata": {},
   "outputs": [
    {
     "data": {
      "text/plain": [
       "Index(['Obesity', 'Normal', 'Overweight', 'Extreme Obesity', 'Weak',\n",
       "       'Extremely Weak'],\n",
       "      dtype='object', name='Label')"
      ]
     },
     "execution_count": 28,
     "metadata": {},
     "output_type": "execute_result"
    }
   ],
   "source": [
    "data.index.unique()"
   ]
  },
  {
   "cell_type": "code",
   "execution_count": 37,
   "id": "f27723fa",
   "metadata": {},
   "outputs": [
    {
     "data": {
      "image/png": "[encoded data removed]",
      "text/plain": [
       "<Figure size 640x480 with 1 Axes>"
      ]
     },
     "metadata": {},
     "output_type": "display_data"
    }
   ],
   "source": [
    "# 함수 호출하기\n",
    "graph_draw('Extreme Obesity','red')\n",
    "graph_draw('Obesity','orange')\n",
    "graph_draw('Overweight','yellow')\n",
    "graph_draw('Normal','green')\n",
    "graph_draw('Weak','blue')\n",
    "graph_draw('Extremely Weak','purple')\n",
    "\n",
    "plt.show()"
   ]
  },
  {
   "cell_type": "code",
   "execution_count": 41,
   "id": "97778005",
   "metadata": {},
   "outputs": [],
   "source": [
    "# 데이터 분리\n",
    "# 문제 데이터(X): Height, Weight\n",
    "# 정답 데이터(y) : label\n",
    "X=data[[\"Height\",\"Weight\"]] # X(문제) 대문자! -> 2차원\n",
    "y=data.index"
   ]
  },
  {
   "cell_type": "code",
   "execution_count": 43,
   "id": "6a0500dd",
   "metadata": {},
   "outputs": [
    {
     "data": {
      "text/plain": [
       "((500, 2), (500,))"
      ]
     },
     "execution_count": 43,
     "metadata": {},
     "output_type": "execute_result"
    }
   ],
   "source": [
    "X.shape, y.shape"
   ]
  },
  {
   "cell_type": "code",
   "execution_count": 52,
   "id": "c7729bd5",
   "metadata": {},
   "outputs": [],
   "source": [
    "# train, text 분리\n",
    "# 한정적인 데이터 내에서 학습 + 평가까지 해야되기 때문에\n",
    "# train: 70%, test: 30%\n",
    "X_train = X.iloc[0:350]\n",
    "y_train = y[0:350]\n",
    "\n",
    "X_test = X.iloc[350:]\n",
    "y_test = y[350:]"
   ]
  },
  {
   "cell_type": "markdown",
   "id": "ecc9791c",
   "metadata": {},
   "source": [
    "5. 모델 선택, 하이퍼파라미터 조정\n",
    "- KNN 모델 (실습용 모델)"
   ]
  },
  {
   "cell_type": "code",
   "execution_count": 46,
   "id": "4be3d827",
   "metadata": {},
   "outputs": [],
   "source": [
    "# 머신러닝 패키지 불러오기\n",
    "from sklearn.neighbors import KNeighborsClassifier # KNN 분류모델\n",
    "from sklearn.metrics import accuracy_score # 정확도 측정 도구"
   ]
  },
  {
   "cell_type": "code",
   "execution_count": null,
   "id": "98ef6987",
   "metadata": {},
   "outputs": [],
   "source": []
  },
  {
   "cell_type": "markdown",
   "id": "18cfeefd",
   "metadata": {},
   "source": [
    "6. 모델 학습\n",
    "- fit(): 모델 학습"
   ]
  },
  {
   "cell_type": "code",
   "execution_count": 48,
   "id": "9ab1218b",
   "metadata": {},
   "outputs": [],
   "source": [
    "# 모델 객체 생성(모델 초기화)\n",
    "knn= KNeighborsClassifier()\n",
    "# 모델 생성만 한 것"
   ]
  },
  {
   "cell_type": "code",
   "execution_count": 53,
   "id": "88664b91",
   "metadata": {},
   "outputs": [
    {
     "data": {
      "text/html": [
       "<style>#sk-container-id-1 {color: black;}#sk-container-id-1 pre{padding: 0;}#sk-container-id-1 div.sk-toggleable {background-color: white;}#sk-container-id-1 label.sk-toggleable__label {cursor: pointer;display: block;width: 100%;margin-bottom: 0;padding: 0.3em;box-sizing: border-box;text-align: center;}#sk-container-id-1 label.sk-toggleable__label-arrow:before {content: \"▸\";float: left;margin-right: 0.25em;color: #696969;}#sk-container-id-1 label.sk-toggleable__label-arrow:hover:before {color: black;}#sk-container-id-1 div.sk-estimator:hover label.sk-toggleable__label-arrow:before {color: black;}#sk-container-id-1 div.sk-toggleable__content {max-height: 0;max-width: 0;overflow: hidden;text-align: left;background-color: #f0f8ff;}#sk-container-id-1 div.sk-toggleable__content pre {margin: 0.2em;color: black;border-radius: 0.25em;background-color: #f0f8ff;}#sk-container-id-1 input.sk-toggleable__control:checked~div.sk-toggleable__content {max-height: 200px;max-width: 100%;overflow: auto;}#sk-container-id-1 input.sk-toggleable__control:checked~label.sk-toggleable__label-arrow:before {content: \"▾\";}#sk-container-id-1 div.sk-estimator input.sk-toggleable__control:checked~label.sk-toggleable__label {background-color: #d4ebff;}#sk-container-id-1 div.sk-label input.sk-toggleable__control:checked~label.sk-toggleable__label {background-color: #d4ebff;}#sk-container-id-1 input.sk-hidden--visually {border: 0;clip: rect(1px 1px 1px 1px);clip: rect(1px, 1px, 1px, 1px);height: 1px;margin: -1px;overflow: hidden;padding: 0;position: absolute;width: 1px;}#sk-container-id-1 div.sk-estimator {font-family: monospace;background-color: #f0f8ff;border: 1px dotted black;border-radius: 0.25em;box-sizing: border-box;margin-bottom: 0.5em;}#sk-container-id-1 div.sk-estimator:hover {background-color: #d4ebff;}#sk-container-id-1 div.sk-parallel-item::after {content: \"\";width: 100%;border-bottom: 1px solid gray;flex-grow: 1;}#sk-container-id-1 div.sk-label:hover label.sk-toggleable__label {background-color: #d4ebff;}#sk-container-id-1 div.sk-serial::before {content: \"\";position: absolute;border-left: 1px solid gray;box-sizing: border-box;top: 0;bottom: 0;left: 50%;z-index: 0;}#sk-container-id-1 div.sk-serial {display: flex;flex-direction: column;align-items: center;background-color: white;padding-right: 0.2em;padding-left: 0.2em;position: relative;}#sk-container-id-1 div.sk-item {position: relative;z-index: 1;}#sk-container-id-1 div.sk-parallel {display: flex;align-items: stretch;justify-content: center;background-color: white;position: relative;}#sk-container-id-1 div.sk-item::before, #sk-container-id-1 div.sk-parallel-item::before {content: \"\";position: absolute;border-left: 1px solid gray;box-sizing: border-box;top: 0;bottom: 0;left: 50%;z-index: -1;}#sk-container-id-1 div.sk-parallel-item {display: flex;flex-direction: column;z-index: 1;position: relative;background-color: white;}#sk-container-id-1 div.sk-parallel-item:first-child::after {align-self: flex-end;width: 50%;}#sk-container-id-1 div.sk-parallel-item:last-child::after {align-self: flex-start;width: 50%;}#sk-container-id-1 div.sk-parallel-item:only-child::after {width: 0;}#sk-container-id-1 div.sk-dashed-wrapped {border: 1px dashed gray;margin: 0 0.4em 0.5em 0.4em;box-sizing: border-box;padding-bottom: 0.4em;background-color: white;}#sk-container-id-1 div.sk-label label {font-family: monospace;font-weight: bold;display: inline-block;line-height: 1.2em;}#sk-container-id-1 div.sk-label-container {text-align: center;}#sk-container-id-1 div.sk-container {/* jupyter's `normalize.less` sets `[hidden] { display: none; }` but bootstrap.min.css set `[hidden] { display: none !important; }` so we also need the `!important` here to be able to override the default hidden behavior on the sphinx rendered scikit-learn.org. See: https://github.com/scikit-learn/scikit-learn/issues/21755 */display: inline-block !important;position: relative;}#sk-container-id-1 div.sk-text-repr-fallback {display: none;}</style><div id=\"sk-container-id-1\" class=\"sk-top-container\"><div class=\"sk-text-repr-fallback\"><pre>KNeighborsClassifier()</pre><b>In a Jupyter environment, please rerun this cell to show the HTML representation or trust the notebook. <br />On GitHub, the HTML representation is unable to render, please try loading this page with nbviewer.org.</b></div><div class=\"sk-container\" hidden><div class=\"sk-item\"><div class=\"sk-estimator sk-toggleable\"><input class=\"sk-toggleable__control sk-hidden--visually\" id=\"sk-estimator-id-1\" type=\"checkbox\" checked><label for=\"sk-estimator-id-1\" class=\"sk-toggleable__label sk-toggleable__label-arrow\">KNeighborsClassifier</label><div class=\"sk-toggleable__content\"><pre>KNeighborsClassifier()</pre></div></div></div></div></div>"
      ],
      "text/plain": [
       "KNeighborsClassifier()"
      ]
     },
     "execution_count": 53,
     "metadata": {},
     "output_type": "execute_result"
    }
   ],
   "source": [
    "# 모델 학습\n",
    "# fit(훈련용 문제, 훈련용 답)\n",
    "knn.fit(X_train, y_train)"
   ]
  },
  {
   "cell_type": "code",
   "execution_count": 54,
   "id": "4056d452",
   "metadata": {},
   "outputs": [],
   "source": [
    "# 모델 예측\n",
    "# predict(테스트용 문제): 예측을 수행\n",
    "pre = knn.predict(X_test)"
   ]
  },
  {
   "cell_type": "markdown",
   "id": "0797032a",
   "metadata": {},
   "source": [
    "7. 모델 평가"
   ]
  },
  {
   "cell_type": "code",
   "execution_count": 55,
   "id": "5aae8bed",
   "metadata": {},
   "outputs": [
    {
     "data": {
      "text/plain": [
       "0.9066666666666666"
      ]
     },
     "execution_count": 55,
     "metadata": {},
     "output_type": "execute_result"
    }
   ],
   "source": [
    "# acc(실제값, 예측값)\n",
    "accuracy_score(y_test, pre)"
   ]
  },
  {
   "cell_type": "code",
   "execution_count": null,
   "id": "c6ce0937",
   "metadata": {},
   "outputs": [],
   "source": []
  },
  {
   "cell_type": "code",
   "execution_count": null,
   "id": "0a063436",
   "metadata": {},
   "outputs": [],
   "source": []
  },
  {
   "cell_type": "code",
   "execution_count": null,
   "id": "f91df9c7",
   "metadata": {},
   "outputs": [],
   "source": []
  },
  {
   "cell_type": "code",
   "execution_count": null,
   "id": "cde57c20",
   "metadata": {},
   "outputs": [],
   "source": []
  },
  {
   "cell_type": "code",
   "execution_count": null,
   "id": "87ab5916",
   "metadata": {},
   "outputs": [],
   "source": []
  },
  {
   "cell_type": "code",
   "execution_count": null,
   "id": "91014c0f",
   "metadata": {},
   "outputs": [],
   "source": []
  },
  {
   "cell_type": "code",
   "execution_count": null,
   "id": "4d92aea8",
   "metadata": {},
   "outputs": [],
   "source": []
  },
  {
   "cell_type": "code",
   "execution_count": null,
   "id": "11b83a94",
   "metadata": {},
   "outputs": [],
   "source": []
  },
  {
   "cell_type": "code",
   "execution_count": null,
   "id": "9f28e86d",
   "metadata": {},
   "outputs": [],
   "source": []
  },
  {
   "cell_type": "code",
   "execution_count": null,
   "id": "6834a08d",
   "metadata": {},
   "outputs": [],
   "source": []
  },
  {
   "cell_type": "code",
   "execution_count": null,
   "id": "0cb8a4d9",
   "metadata": {},
   "outputs": [],
   "source": []
  },
  {
   "cell_type": "code",
   "execution_count": null,
   "id": "a80f4217",
   "metadata": {},
   "outputs": [],
   "source": []
  },
  {
   "cell_type": "code",
   "execution_count": null,
   "id": "e4cfb3f5",
   "metadata": {},
   "outputs": [],
   "source": []
  },
  {
   "cell_type": "code",
   "execution_count": null,
   "id": "4e0fd477",
   "metadata": {},
   "outputs": [],
   "source": []
  },
  {
   "cell_type": "code",
   "execution_count": null,
   "id": "2ae88587",
   "metadata": {},
   "outputs": [],
   "source": []
  },
  {
   "cell_type": "code",
   "execution_count": null,
   "id": "7817147f",
   "metadata": {},
   "outputs": [],
   "source": []
  },
  {
   "cell_type": "code",
   "execution_count": null,
   "id": "4917d307",
   "metadata": {},
   "outputs": [],
   "source": []
  },
  {
   "cell_type": "code",
   "execution_count": null,
   "id": "0ca6a9d6",
   "metadata": {},
   "outputs": [],
   "source": []
  },
  {
   "cell_type": "code",
   "execution_count": null,
   "id": "e5b78f9d",
   "metadata": {},
   "outputs": [],
   "source": []
  },
  {
   "cell_type": "code",
   "execution_count": null,
   "id": "598e6a7b",
   "metadata": {},
   "outputs": [],
   "source": []
  },
  {
   "cell_type": "code",
   "execution_count": null,
   "id": "0992b71f",
   "metadata": {},
   "outputs": [],
   "source": []
  },
  {
   "cell_type": "code",
   "execution_count": null,
   "id": "820e4108",
   "metadata": {},
   "outputs": [],
   "source": []
  },
  {
   "cell_type": "code",
   "execution_count": null,
   "id": "af9e4c6b",
   "metadata": {},
   "outputs": [],
   "source": []
  },
  {
   "cell_type": "code",
   "execution_count": null,
   "id": "e194773a",
   "metadata": {},
   "outputs": [],
   "source": []
  },
  {
   "cell_type": "code",
   "execution_count": null,
   "id": "a2e7e0a3",
   "metadata": {},
   "outputs": [],
   "source": []
  },
  {
   "cell_type": "code",
   "execution_count": null,
   "id": "7df7b21f",
   "metadata": {},
   "outputs": [],
   "source": []
  },
  {
   "cell_type": "code",
   "execution_count": null,
   "id": "16e12916",
   "metadata": {},
   "outputs": [],
   "source": []
  },
  {
   "cell_type": "code",
   "execution_count": null,
   "id": "78304a63",
   "metadata": {},
   "outputs": [],
   "source": []
  },
  {
   "cell_type": "code",
   "execution_count": null,
   "id": "cf8b8653",
   "metadata": {},
   "outputs": [],
   "source": []
  },
  {
   "cell_type": "code",
   "execution_count": null,
   "id": "4ae44882",
   "metadata": {},
   "outputs": [],
   "source": []
  },
  {
   "cell_type": "code",
   "execution_count": null,
   "id": "1234ebb4",
   "metadata": {},
   "outputs": [],
   "source": []
  },
  {
   "cell_type": "code",
   "execution_count": null,
   "id": "d22ed869",
   "metadata": {},
   "outputs": [],
   "source": []
  },
  {
   "cell_type": "code",
   "execution_count": null,
   "id": "ff81de4c",
   "metadata": {},
   "outputs": [],
   "source": []
  },
  {
   "cell_type": "code",
   "execution_count": null,
   "id": "cba11ec0",
   "metadata": {},
   "outputs": [],
   "source": []
  },
  {
   "cell_type": "code",
   "execution_count": null,
   "id": "2d75de4f",
   "metadata": {},
   "outputs": [],
   "source": []
  },
  {
   "cell_type": "code",
   "execution_count": null,
   "id": "b24380f1",
   "metadata": {},
   "outputs": [],
   "source": []
  },
  {
   "cell_type": "code",
   "execution_count": null,
   "id": "018626ce",
   "metadata": {},
   "outputs": [],
   "source": []
  },
  {
   "cell_type": "code",
   "execution_count": null,
   "id": "18dfb8f3",
   "metadata": {},
   "outputs": [],
   "source": []
  },
  {
   "cell_type": "code",
   "execution_count": null,
   "id": "edc67242",
   "metadata": {},
   "outputs": [],
   "source": []
  },
  {
   "cell_type": "code",
   "execution_count": null,
   "id": "6cc4ece7",
   "metadata": {},
   "outputs": [],
   "source": []
  },
  {
   "cell_type": "code",
   "execution_count": null,
   "id": "8596a530",
   "metadata": {},
   "outputs": [],
   "source": []
  },
  {
   "cell_type": "code",
   "execution_count": null,
   "id": "88bc97bf",
   "metadata": {},
   "outputs": [],
   "source": []
  },
  {
   "cell_type": "code",
   "execution_count": null,
   "id": "3de3d4c0",
   "metadata": {},
   "outputs": [],
   "source": []
  },
  {
   "cell_type": "code",
   "execution_count": null,
   "id": "63ca69c7",
   "metadata": {},
   "outputs": [],
   "source": []
  },
  {
   "cell_type": "code",
   "execution_count": null,
   "id": "ef684a59",
   "metadata": {},
   "outputs": [],
   "source": []
  }
 ],
 "metadata": {
  "kernelspec": {
   "display_name": "Python 3 (ipykernel)",
   "language": "python",
   "name": "python3"
  },
  "language_info": {
   "codemirror_mode": {
    "name": "ipython",
    "version": 3
   },
   "file_extension": ".py",
   "mimetype": "text/x-python",
   "name": "python",
   "nbconvert_exporter": "python",
   "pygments_lexer": "ipython3",
   "version": "3.11.5"
  }
 },
 "nbformat": 4,
 "nbformat_minor": 5
}
